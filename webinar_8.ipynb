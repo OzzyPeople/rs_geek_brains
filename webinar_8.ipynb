{
 "cells": [
  {
   "cell_type": "markdown",
   "metadata": {},
   "source": [
    "# Вебинар 8. Консультация"
   ]
  },
  {
   "cell_type": "markdown",
   "metadata": {},
   "source": [
    "---"
   ]
  },
  {
   "cell_type": "markdown",
   "metadata": {},
   "source": [
    "## 1. Recap по финальному проекту"
   ]
  },
  {
   "cell_type": "markdown",
   "metadata": {},
   "source": [
    "**Основное**\n",
    "- Дедлайн - 4 октября 23:59\n",
    "- Датасеты из вебинаров\n",
    "- Целевая метрика money_precision@5\n",
    "- Есть бизнес-ограничения\n",
    "- Бейзлайн решения - [MainRecommender](https://github.com/geangohn/recsys-tutorial/blob/master/src/recommenders.py)\n",
    "- Сдаем ссылку на github с решением. На github должен быть **ноутбук с решением** + **src с .py файлами** + файл recommendations.csv (user_id | [rec_1, rec_2, ...] с рекомендациями. rec_i - реальные id item-ов (из retail_train.csv)\n",
    "\n",
    "**Hints:** \n",
    "\n",
    "Сначала просто попробуйте разные параметры MainRecommender:  \n",
    "- N в топ-N товарах при формировании user-item матирцы (сейчас топ-5000). **N > 3 000**\n",
    "- Различные веса в user-item матрице (0/1, кол-во покупок, log(кол-во покупок + 1), сумма покупки, выручка от покупок,...)  \n",
    "- Разные взвешивания матрицы (TF-IDF, BM25 - у него есть параметры)  \n",
    "- Разные смешивания рекомендаций (обратите внимание на бейзлайн - прошлые покупки юзера)  \n",
    "\n",
    "Сделайте MVP - минимально рабочий продукт - (пусть даже top-popular), а потом его улучшайте\n",
    "\n",
    "Если вы делаете двухуровневую модель (а это НЕ обязательно!) - следите за валидацией "
   ]
  },
  {
   "cell_type": "markdown",
   "metadata": {},
   "source": [
    "---"
   ]
  },
  {
   "cell_type": "markdown",
   "metadata": {},
   "source": [
    "## 2. Ответы на вопросы"
   ]
  },
  {
   "cell_type": "markdown",
   "metadata": {},
   "source": [
    "Как делать кросс-валидацию?\n",
    "- [Статья](https://www.ethanrosenthal.com/2016/10/19/implicit-mf-part-1/)\n",
    "- Смотреть на метрику на отложенной выборке, меняя гиперпараметры\n",
    "\n",
    "Какие гиперпараметры оптимизировать у ALS:\n",
    "- Кол-во факторов \n",
    "- regularization / iterations\n",
    "\n",
    "Как считать цены для товаров (в т ч для money_precison@5):\n",
    "- Цена товара = среднее цен покупок этого товара по всем юзерам = sum(sales_value) / sum(quantity) из train\n",
    "\n",
    "Новый пользователь:\n",
    "- рекомендовать топ-полярных / random weighted топ-полярных товаров\n",
    "- использовать гибридные рекомендательные системы"
   ]
  },
  {
   "cell_type": "markdown",
   "metadata": {},
   "source": [
    "## Ваши вопросы"
   ]
  },
  {
   "cell_type": "code",
   "execution_count": 2,
   "metadata": {},
   "outputs": [],
   "source": [
    "# questions?\n",
    "\n",
    "# Вопрос 1. Перечитала методичку, там написано, что в implicit есть возможность перерасчёта холодных \n",
    "# юзеров \"на лету\". Как она реализована?\n",
    "\n",
    "# псеводокод\n",
    "model = AlterantingLeastSquares()\n",
    "model.predict(..., recalculate_user=True) # Пересчет холодных юзеров на лету\n",
    "# При обучении была матрица user-item\n",
    "# В predict можете подать обновленную user-item матрицу (c новыми взаимодействиями)\n",
    "\n",
    "\n",
    "# Вопрос 2. Все товары из разных категорий - как это сделать? \n",
    "# фильтровать выданные моделью рекомендации? - Да. Бейзлайн фильтрации есть в 7 вебинаре: postfilter_items()\n",
    "# 2 новых товара и 1 дорогой - это аналогично постфильтрация? - Да\n",
    "\n",
    "# Вопрос 3. а что делать если модель вернула меньше 5 рекомендаций? \n",
    "# Ответ 1: model.recommend_all() - ранжирует все товары. \n",
    "# https://implicit.readthedocs.io/en/latest/als.html#implicit.als.AlternatingLeastSquares.recommend_all\n",
    "\n",
    "# Ответ 2: генерировать 200 рекомендаций --> фильтровать --> если останется < 5, то чем-то (популярными) дополнить\n",
    "\n",
    "# Вопрос 4. precision считать уже после пост фильтрации? - ДА (после применения всех бизнес-правил)\n",
    "\n",
    "# Вопрос 5. а можно по тестам какие-то примеры кода из жизни?\n",
    "# Тесты на данные: great-expectations\n",
    "# Тесты на predict: вариации assert. assert(len(predictions) == 5), ...\n",
    "# Тесты на метрики: assert val_money_precision > 0.2, ...\n",
    "\n",
    "\n",
    "#  Модель 1-ого уровня сильно проще, чем модель 2-ого уровня. \n",
    "# (ALS, логистическая регрессия, ближайшие соседи к покупкам юзера --> (LightGBM, Нейройнная сетка)"
   ]
  },
  {
   "cell_type": "markdown",
   "metadata": {},
   "source": [
    "---"
   ]
  },
  {
   "cell_type": "markdown",
   "metadata": {},
   "source": [
    "## 3. Разбор соревнования по рекомендациям топ-30 товаров X5 Retail Hero"
   ]
  },
  {
   "cell_type": "markdown",
   "metadata": {},
   "source": [
    "Постановка задачи + особенности данных + подход к решению из [презентации](https://vk.com/away.php?utf=1&to=https%3A%2F%2Fgithub.com%2Faprotopopov%2Fretailhero_recommender%2Fblob%2Fmaster%2Fslides%2Fretailhero_recommender.pdf) решения 1-ого места\n",
    "\n",
    "Бонус - [код](https://github.com/aprotopopov/retailhero_recommender) решения 1-ого места"
   ]
  },
  {
   "cell_type": "code",
   "execution_count": 11,
   "metadata": {},
   "outputs": [
    {
     "name": "stdout",
     "output_type": "stream",
     "text": [
      "        item_1  item_2\n",
      "item_1      10       3\n",
      "item_2       3       6 \n",
      "\n",
      "normalized:\n",
      "        item_1  item_2\n",
      "item_1     1.0     0.5\n",
      "item_2     0.3     1.0 \n",
      "\n",
      "item_1    0.65\n",
      "item_2    0.75\n",
      "dtype: float64\n",
      "item_1    0.3\n",
      "item_2    0.5\n",
      "dtype: float64\n",
      "item_1    0.494975\n",
      "item_2    0.353553\n",
      "dtype: float64\n"
     ]
    }
   ],
   "source": [
    "import pandas as pd\n",
    "\n",
    "# Item-Item matrix. a_ij - сколько раз товар i и товар j были куплены вместк\n",
    "m = pd.DataFrame([[10, 3], [3, 6]], columns=['item_1', 'item_2'], index=['item_1', 'item_2'])\n",
    "print(m, '\\n')\n",
    "\n",
    "# нормировка\n",
    "for i in range(m.shape[0]):\n",
    "    m[m.columns[i]] = m[m.columns[i]] / m.iloc[i, i]\n",
    "\n",
    "print('normalized:')\n",
    "print(m, '\\n') \n",
    "\n",
    "\n",
    "# Статистика по товару\n",
    "print(m.mean(axis=0))\n",
    "print(m.min(axis=0))\n",
    "print(m.std(axis=0))"
   ]
  },
  {
   "cell_type": "code",
   "execution_count": null,
   "metadata": {},
   "outputs": [],
   "source": []
  },
  {
   "cell_type": "markdown",
   "metadata": {},
   "source": [
    "## Основные подходы участников из топ-15"
   ]
  },
  {
   "cell_type": "markdown",
   "metadata": {},
   "source": [
    "### Генерация кандидатов\n",
    "\n",
    "В основном генерировали k = {50, 100} кандидатов, чтобы модель 2-ого уровня отрабатывала за разумное время\n",
    "\n",
    "- Прошлые покупки юзера + топ-популярных, если покупок < k --> recall@100 ~ 42%\n",
    "- Из ALS, item2item моделей (implicit.nn.CosineRecommender)"
   ]
  },
  {
   "cell_type": "markdown",
   "metadata": {},
   "source": [
    "### Фичи в модели 2-ого уровня\n",
    "Коллаборативные:\n",
    "- biases + embeddings из коллаборативной фильтрации / Скоры item2item моделей\n",
    "- TF-IDF матирца item-ов c > N покупками\n",
    "- TF-IDF + TSNE/UMAP/ALS\n",
    "\n",
    "handcrafted фичи для товаров:\n",
    "- категории товаров\n",
    "- нормированная частота покупки товара для каждого клиента = кол-во покупок товар i / общеее кол-во покупок юзера\n",
    "- кол-во магазинов, в которых продавался товар\n",
    "- кол-во транзакций клиента\n",
    "- mean / max / std кол-ва уникальных товаров в корзине клиента \n",
    "- mean / max / std кол-ва уникальных категорий в корзине клиента \n",
    "\n",
    "handcrafted фичи для юзеров:\n",
    "- Средний чек\n",
    "- Средняя цена одного купленного товара\n",
    "- Среднее кол-во дней между покупками / с последней покупки    \n",
    "- Количество уникальных покупок (transaction_id, product_id) по всем категориям (store_id, level_i_id)\n",
    "- Признаки с накопленными бонусами\n",
    "- Средняя скидка, доля купленных товаров со скидками\n",
    "\n",
    "Интересные:\n",
    "- Факт заказа каждого товара в последних 5 транзакциях в виде последовательности бит (категориальная фича). \n",
    "10001 - купил товар в последней транзакции и 5 транзакий назад (feature hashing)\n",
    "- item co_ocurrence\n",
    "- als/word2vec эмбеддинги товаров (альтернативное название - item2vec, prod2vec)\n",
    "- Расстояние от als/word2vec эмбеддинга товара до среднего эмбедиингов товаров, купленных юзером"
   ]
  },
  {
   "cell_type": "markdown",
   "metadata": {},
   "source": [
    "ALS --> эмбеддигнги для всех товаров  \n",
    "История покупок юзера --> товары юзера --> (ALS) эмбеддинги --> усредняем (1 средний эмбеддинг)"
   ]
  },
  {
   "cell_type": "code",
   "execution_count": null,
   "metadata": {},
   "outputs": [],
   "source": [
    "# Работа с эмбеддингами товаров на примере ALS вместо word2vec\n",
    "from implicit.als import AlternatingLeastSquares\n",
    "\n",
    "model = AlternatingLeastSquares()\n",
    "model.fit(...)\n",
    "\n",
    "model.item_factors  # Добавить как фичи в модель 2-ого уровня\n",
    "\n",
    "# Предположение: эмбеддинг юзера = среднее эмбеддингов купленниых им товаров\n",
    "# эмбеддинг товара - эмбеддинг юзера  # чем разница меньше, тем товар ближе к интересам пользователя"
   ]
  },
  {
   "cell_type": "markdown",
   "metadata": {},
   "source": [
    "### Модели 2-ого уровня\n",
    "- классификация через LightGBM\n",
    "- ранжирование CatBoost через YetiRank, YetiRankPairwise"
   ]
  }
 ],
 "metadata": {
  "kernelspec": {
   "display_name": "Python 3",
   "language": "python",
   "name": "python3"
  },
  "language_info": {
   "codemirror_mode": {
    "name": "ipython",
    "version": 3
   },
   "file_extension": ".py",
   "mimetype": "text/x-python",
   "name": "python",
   "nbconvert_exporter": "python",
   "pygments_lexer": "ipython3",
   "version": "3.7.6"
  }
 },
 "nbformat": 4,
 "nbformat_minor": 2
}
